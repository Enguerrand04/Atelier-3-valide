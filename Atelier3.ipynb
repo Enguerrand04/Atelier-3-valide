{
 "cells": [
  {
   "cell_type": "markdown",
   "metadata": {},
   "source": [
    "## Code à simplifier"
   ]
  },
  {
   "cell_type": "code",
   "execution_count": 122,
   "metadata": {},
   "outputs": [],
   "source": [
    "import java.util.Scanner;\n",
    "\n",
    "Scanner keyboard = new Scanner(System.in);\n",
    "\n",
    "String productName1 = \"Stylos\"; \n",
    "double unitPrice1 = 1.2; \n",
    "\n",
    "int quantity1 = inputProductQuantity(keyboard,productName1,unitPrice1);\n",
    "\n",
    "String productName2 = \"Cahier\";\n",
    "double unitPrice2 = 3.5;\n",
    "\n",
    "int quantity2 = inputProductQuantity(keyboard,productName2,unitPrice2);\n",
    "\n",
    "keyboard.close();\n",
    "\n",
    "double total = 0;\n",
    "\n",
    "displayProductGridHeader();\n",
    "\n",
    "double price1 = unitPrice1 * (double)quantity1;\n",
    "\n",
    "total += price1;\n",
    "System.out.printf(\"| %-13s | %6.2f€ | %3d | %7.2f€ |\\n\", productName1, unitPrice1, quantity1, price1);\n",
    "\n",
    "double price2 = unitPrice2 * (double)quantity2;\n",
    "\n",
    "total += price2;\n",
    "System.out.printf(\"| %-13s | %6.2f€ | %3d | %7.2f€ |\\n\", productName2, unitPrice2, quantity2, price2);\n",
    "\n",
    "displayProductGridFooter(total);"
   ]
  },
  {
   "cell_type": "markdown",
   "metadata": {},
   "source": [
    "## Procédures"
   ]
  },
  {
   "cell_type": "code",
   "execution_count": 121,
   "metadata": {},
   "outputs": [],
   "source": [
    "//Ligne\n",
    "void displayGridLine()\n",
    "{\n",
    "System.out.println(\"+---------------+---------+-----+----------+\");\n",
    "}\n",
    "\n",
    "//Header\n",
    "void displayProductGridHeader()\n",
    "{\n",
    "    System.out.println(\"+---------------+---------+-----+----------+\");\n",
    "    System.out.println(\"| Product       | € Unit  | Qty |   price  |\");\n",
    "    System.out.println(\"+---------------+---------+-----+----------+\");\n",
    "}\n",
    "\n",
    "//Footer\n",
    "void displayProductGridFooter(double total)\n",
    "{\n",
    "    System.out.println(\"+---------------+---------+-----+----------+\");\n",
    "    System.out.printf(\"                                |%7.2f€  |\\n\", total);\n",
    "    System.out.println(\"                                +----------+\");\n",
    "}\n",
    "\n",
    "//Quantity\n",
    "int inputProductQuantity(Scanner keyboard, String productName, double unitPrice)\n",
    "{\n",
    "System.out.printf(\"How many %s at €%.2f ?\\n\", productName, unitPrice);\n",
    "int quantity1 = keyboard.nextInt();\n",
    "return quantity1;\n",
    "}\n",
    "\n"
   ]
  },
  {
   "cell_type": "markdown",
   "metadata": {},
   "source": [
    "## Env Test"
   ]
  },
  {
   "cell_type": "code",
   "execution_count": 106,
   "metadata": {},
   "outputs": [
    {
     "name": "stdout",
     "output_type": "stream",
     "text": [
      "+---------------+---------+-----+----------+\n",
      "+---------------+---------+-----+----------+\n",
      "| Product       | € Unit  | Qty |   price  |\n",
      "+---------------+---------+-----+----------+\n",
      "+---------------+---------+-----+----------+\n",
      "                                |  10.00€  |\n",
      "                                +----------+\n"
     ]
    },
    {
     "ename": "CompilerException",
     "evalue": "",
     "output_type": "error",
     "traceback": [
      "\u001b[0m\u001b[1m\u001b[31mCompile error:\u001b[0m",
      "\u001b[0m\u001b[1m|    \u001b[0m\u001b[1m\u001b[48;2;235;145;148minputProductQuantity\u001b[0m\u001b[1m();\u001b[0m",
      "\u001b[0m\u001b[1m\u001b[34mmethod inputProductQuantity in class  cannot be applied to given types;\u001b[0m",
      "\u001b[0m\u001b[1m\u001b[34m  required: java.util.Scanner,java.lang.String,double\u001b[0m",
      "\u001b[0m\u001b[1m\u001b[34m  found:    no arguments\u001b[0m",
      "\u001b[0m\u001b[1m\u001b[34m  reason: actual and formal argument lists differ in length\u001b[0m",
      ""
     ]
    }
   ],
   "source": [
    "displayGridLine();\n",
    "\n",
    "displayProductGridHeader();\n",
    "\n",
    "displayProductGridFooter(10);\n",
    "\n",
    "inputProductQuantity();"
   ]
  }
 ],
 "metadata": {
  "kernelspec": {
   "display_name": "Java (rjk 2.2.0)",
   "language": "java",
   "name": "rapaio-jupyter-kernel"
  },
  "language_info": {
   "codemirror_mode": "java",
   "file_extension": ".jshell",
   "mimetype": "text/x-java-source",
   "name": "java",
   "nbconvert_exporter": "script",
   "pygments_lexer": "java",
   "version": "21.0.5+11-LTS"
  }
 },
 "nbformat": 4,
 "nbformat_minor": 2
}
