{
 "cells": [
  {
   "cell_type": "markdown",
   "metadata": {},
   "source": [
    "## Code à simplifier"
   ]
  },
  {
   "cell_type": "code",
   "execution_count": 4,
   "metadata": {},
   "outputs": [
    {
     "name": "stdout",
     "output_type": "stream",
     "text": [
      "How many Stylos at €1.20 ?\n",
      "How many Cahier at €3.50 ?\n",
      "+---------------+---------+-----+----------+\n",
      "| Product       | € Unit  | Qty |   price  |\n",
      "+---------------+---------+-----+----------+\n",
      "| Stylos        |   1.20€ |   2 |    2.40€ |\n",
      "| Cahier        |   3.50€ |   3 |   10.50€ |\n",
      "+---------------+---------+-----+----------+\n",
      "                                |  12.90€  |\n",
      "                                +----------+\n"
     ]
    }
   ],
   "source": [
    "import java.util.Scanner;\n",
    "\n",
    "Scanner keyboard = new Scanner(System.in);\n",
    "\n",
    "String productName1 = \"Stylos\"; \n",
    "double unitPrice1 = 1.2; \n",
    "\n",
    "int quantity1 = inputProductQuantity(keyboard,productName1,unitPrice1);\n",
    "\n",
    "String productName2 = \"Cahier\";\n",
    "double unitPrice2 = 3.5;\n",
    "\n",
    "int quantity2 = inputProductQuantity(keyboard,productName2,unitPrice2);\n",
    "\n",
    "keyboard.close();\n",
    "\n",
    "double total = 0;\n",
    "\n",
    "displayProductGridHeader();\n",
    "\n",
    "total += displayProductGridEntry(productName1, unitPrice1, quantity1);\n",
    "\n",
    "total += displayProductGridEntry(productName2, unitPrice2, quantity2);\n",
    "\n",
    "\n",
    "displayProductGridFooter(total);"
   ]
  },
  {
   "cell_type": "markdown",
   "metadata": {},
   "source": [
    "## Procédures"
   ]
  },
  {
   "cell_type": "code",
   "execution_count": 2,
   "metadata": {},
   "outputs": [],
   "source": [
    "//Ligne\n",
    "void displayGridLine()\n",
    "{\n",
    "System.out.println(\"+---------------+---------+-----+----------+\");\n",
    "}\n",
    "\n",
    "//Header\n",
    "void displayProductGridHeader()\n",
    "{\n",
    "    System.out.println(\"+---------------+---------+-----+----------+\");\n",
    "    System.out.println(\"| Product       | € Unit  | Qty |   price  |\");\n",
    "    System.out.println(\"+---------------+---------+-----+----------+\");\n",
    "}\n",
    "\n",
    "//Footer\n",
    "void displayProductGridFooter(double total)\n",
    "{\n",
    "    System.out.println(\"+---------------+---------+-----+----------+\");\n",
    "    System.out.printf(\"                                |%7.2f€  |\\n\", total);\n",
    "    System.out.println(\"                                +----------+\");\n",
    "}\n",
    "\n",
    "//Quantity\n",
    "int inputProductQuantity(Scanner keyboard, String productName, double unitPrice)\n",
    "{\n",
    "    System.out.printf(\"How many %s at €%.2f ?\\n\", productName, unitPrice);\n",
    "    int quantity = keyboard.nextInt();\n",
    "    while(quantity <0 || quantity >900) // tant que quantity pas bon\n",
    "    {\n",
    "        System.out.println(\"Mauvaise donnée, veuillez réessayer !\");\n",
    "        System.out.println(\"Choisissez un chiffre entre 0 et 900\");\n",
    "        quantity = keyboard.nextInt();\n",
    "    }\n",
    "    return quantity;\n",
    "}\n",
    "\n",
    "//Entrées du tableau\n",
    "double displayProductGridEntry(String productName, double unitPrice, int quantity)\n",
    "{\n",
    "double price = unitPrice * (double)quantity;\n",
    "\n",
    "System.out.printf(\"| %-13s | %6.2f€ | %3d | %7.2f€ |\\n\", productName, unitPrice, quantity, price);\n",
    "return price;\n",
    "}\n"
   ]
  },
  {
   "cell_type": "markdown",
   "metadata": {},
   "source": [
    "## Env Test"
   ]
  },
  {
   "cell_type": "code",
   "execution_count": 6,
   "metadata": {},
   "outputs": [
    {
     "name": "stdout",
     "output_type": "stream",
     "text": [
      "+---------------+---------+-----+----------+\n",
      "+---------------+---------+-----+----------+\n",
      "| Product       | € Unit  | Qty |   price  |\n",
      "+---------------+---------+-----+----------+\n"
     ]
    },
    {
     "name": "stdout",
     "output_type": "stream",
     "text": [
      "+---------------+---------+-----+----------+\n",
      "                                |  10.00€  |\n",
      "                                +----------+\n"
     ]
    }
   ],
   "source": [
    "displayGridLine();\n",
    "\n",
    "displayProductGridHeader();\n",
    "\n",
    "displayProductGridFooter(10);"
   ]
  }
 ],
 "metadata": {
  "kernelspec": {
   "display_name": "Java (rjk 2.2.0)",
   "language": "java",
   "name": "rapaio-jupyter-kernel"
  },
  "language_info": {
   "codemirror_mode": "java",
   "file_extension": ".jshell",
   "mimetype": "text/x-java-source",
   "name": "java",
   "nbconvert_exporter": "script",
   "pygments_lexer": "java",
   "version": "21.0.5+11-LTS"
  }
 },
 "nbformat": 4,
 "nbformat_minor": 2
}
